{
  "nbformat": 4,
  "nbformat_minor": 5,
  "metadata": {
    "kernelspec": {
      "display_name": "Python 3",
      "language": "python",
      "name": "python3"
    },
    "language_info": {
      "codemirror_mode": {
        "name": "ipython",
        "version": 3
      },
      "file_extension": ".py",
      "mimetype": "text/x-python",
      "name": "python",
      "nbconvert_exporter": "python",
      "pygments_lexer": "ipython3",
      "version": "3.8.8"
    },
    "colab": {
      "name": "Tutorial1.ipynb",
      "provenance": [],
      "collapsed_sections": []
    }
  },
  "cells": [
    {
      "cell_type": "code",
      "metadata": {
        "id": "0234d975"
      },
      "source": [
        "import numpy as np\n",
        "import pandas as pd\n",
        "from pandas import Series, DataFrame\n",
        "\n",
        "import matplotlib.pyplot as plt"
      ],
      "id": "0234d975",
      "execution_count": 1,
      "outputs": []
    },
    {
      "cell_type": "code",
      "metadata": {
        "scrolled": true,
        "colab": {
          "base_uri": "https://localhost:8080/",
          "height": 417
        },
        "id": "e22f9d67",
        "outputId": "915247ce-964e-46d3-9c74-8de3032df098"
      },
      "source": [
        "data = pd.read_csv('heart.csv')\n",
        "data"
      ],
      "id": "e22f9d67",
      "execution_count": 4,
      "outputs": [
        {
          "output_type": "execute_result",
          "data": {
            "text/html": [
              "<div>\n",
              "<style scoped>\n",
              "    .dataframe tbody tr th:only-of-type {\n",
              "        vertical-align: middle;\n",
              "    }\n",
              "\n",
              "    .dataframe tbody tr th {\n",
              "        vertical-align: top;\n",
              "    }\n",
              "\n",
              "    .dataframe thead th {\n",
              "        text-align: right;\n",
              "    }\n",
              "</style>\n",
              "<table border=\"1\" class=\"dataframe\">\n",
              "  <thead>\n",
              "    <tr style=\"text-align: right;\">\n",
              "      <th></th>\n",
              "      <th>Age</th>\n",
              "      <th>Sex</th>\n",
              "      <th>ChestPainType</th>\n",
              "      <th>RestingBP</th>\n",
              "      <th>Cholesterol</th>\n",
              "      <th>FastingBS</th>\n",
              "      <th>RestingECG</th>\n",
              "      <th>MaxHR</th>\n",
              "      <th>ExerciseAngina</th>\n",
              "      <th>Oldpeak</th>\n",
              "      <th>ST_Slope</th>\n",
              "      <th>HeartDisease</th>\n",
              "    </tr>\n",
              "  </thead>\n",
              "  <tbody>\n",
              "    <tr>\n",
              "      <th>0</th>\n",
              "      <td>40</td>\n",
              "      <td>M</td>\n",
              "      <td>ATA</td>\n",
              "      <td>140</td>\n",
              "      <td>289</td>\n",
              "      <td>0</td>\n",
              "      <td>Normal</td>\n",
              "      <td>172</td>\n",
              "      <td>N</td>\n",
              "      <td>0.0</td>\n",
              "      <td>Up</td>\n",
              "      <td>0</td>\n",
              "    </tr>\n",
              "    <tr>\n",
              "      <th>1</th>\n",
              "      <td>49</td>\n",
              "      <td>F</td>\n",
              "      <td>NAP</td>\n",
              "      <td>160</td>\n",
              "      <td>180</td>\n",
              "      <td>0</td>\n",
              "      <td>Normal</td>\n",
              "      <td>156</td>\n",
              "      <td>N</td>\n",
              "      <td>1.0</td>\n",
              "      <td>Flat</td>\n",
              "      <td>1</td>\n",
              "    </tr>\n",
              "    <tr>\n",
              "      <th>2</th>\n",
              "      <td>37</td>\n",
              "      <td>M</td>\n",
              "      <td>ATA</td>\n",
              "      <td>130</td>\n",
              "      <td>283</td>\n",
              "      <td>0</td>\n",
              "      <td>ST</td>\n",
              "      <td>98</td>\n",
              "      <td>N</td>\n",
              "      <td>0.0</td>\n",
              "      <td>Up</td>\n",
              "      <td>0</td>\n",
              "    </tr>\n",
              "    <tr>\n",
              "      <th>3</th>\n",
              "      <td>48</td>\n",
              "      <td>F</td>\n",
              "      <td>ASY</td>\n",
              "      <td>138</td>\n",
              "      <td>214</td>\n",
              "      <td>0</td>\n",
              "      <td>Normal</td>\n",
              "      <td>108</td>\n",
              "      <td>Y</td>\n",
              "      <td>1.5</td>\n",
              "      <td>Flat</td>\n",
              "      <td>1</td>\n",
              "    </tr>\n",
              "    <tr>\n",
              "      <th>4</th>\n",
              "      <td>54</td>\n",
              "      <td>M</td>\n",
              "      <td>NAP</td>\n",
              "      <td>150</td>\n",
              "      <td>195</td>\n",
              "      <td>0</td>\n",
              "      <td>Normal</td>\n",
              "      <td>122</td>\n",
              "      <td>N</td>\n",
              "      <td>0.0</td>\n",
              "      <td>Up</td>\n",
              "      <td>0</td>\n",
              "    </tr>\n",
              "    <tr>\n",
              "      <th>...</th>\n",
              "      <td>...</td>\n",
              "      <td>...</td>\n",
              "      <td>...</td>\n",
              "      <td>...</td>\n",
              "      <td>...</td>\n",
              "      <td>...</td>\n",
              "      <td>...</td>\n",
              "      <td>...</td>\n",
              "      <td>...</td>\n",
              "      <td>...</td>\n",
              "      <td>...</td>\n",
              "      <td>...</td>\n",
              "    </tr>\n",
              "    <tr>\n",
              "      <th>913</th>\n",
              "      <td>45</td>\n",
              "      <td>M</td>\n",
              "      <td>TA</td>\n",
              "      <td>110</td>\n",
              "      <td>264</td>\n",
              "      <td>0</td>\n",
              "      <td>Normal</td>\n",
              "      <td>132</td>\n",
              "      <td>N</td>\n",
              "      <td>1.2</td>\n",
              "      <td>Flat</td>\n",
              "      <td>1</td>\n",
              "    </tr>\n",
              "    <tr>\n",
              "      <th>914</th>\n",
              "      <td>68</td>\n",
              "      <td>M</td>\n",
              "      <td>ASY</td>\n",
              "      <td>144</td>\n",
              "      <td>193</td>\n",
              "      <td>1</td>\n",
              "      <td>Normal</td>\n",
              "      <td>141</td>\n",
              "      <td>N</td>\n",
              "      <td>3.4</td>\n",
              "      <td>Flat</td>\n",
              "      <td>1</td>\n",
              "    </tr>\n",
              "    <tr>\n",
              "      <th>915</th>\n",
              "      <td>57</td>\n",
              "      <td>M</td>\n",
              "      <td>ASY</td>\n",
              "      <td>130</td>\n",
              "      <td>131</td>\n",
              "      <td>0</td>\n",
              "      <td>Normal</td>\n",
              "      <td>115</td>\n",
              "      <td>Y</td>\n",
              "      <td>1.2</td>\n",
              "      <td>Flat</td>\n",
              "      <td>1</td>\n",
              "    </tr>\n",
              "    <tr>\n",
              "      <th>916</th>\n",
              "      <td>57</td>\n",
              "      <td>F</td>\n",
              "      <td>ATA</td>\n",
              "      <td>130</td>\n",
              "      <td>236</td>\n",
              "      <td>0</td>\n",
              "      <td>LVH</td>\n",
              "      <td>174</td>\n",
              "      <td>N</td>\n",
              "      <td>0.0</td>\n",
              "      <td>Flat</td>\n",
              "      <td>1</td>\n",
              "    </tr>\n",
              "    <tr>\n",
              "      <th>917</th>\n",
              "      <td>38</td>\n",
              "      <td>M</td>\n",
              "      <td>NAP</td>\n",
              "      <td>138</td>\n",
              "      <td>175</td>\n",
              "      <td>0</td>\n",
              "      <td>Normal</td>\n",
              "      <td>173</td>\n",
              "      <td>N</td>\n",
              "      <td>0.0</td>\n",
              "      <td>Up</td>\n",
              "      <td>0</td>\n",
              "    </tr>\n",
              "  </tbody>\n",
              "</table>\n",
              "<p>918 rows × 12 columns</p>\n",
              "</div>"
            ],
            "text/plain": [
              "     Age Sex ChestPainType  ...  Oldpeak  ST_Slope  HeartDisease\n",
              "0     40   M           ATA  ...      0.0        Up             0\n",
              "1     49   F           NAP  ...      1.0      Flat             1\n",
              "2     37   M           ATA  ...      0.0        Up             0\n",
              "3     48   F           ASY  ...      1.5      Flat             1\n",
              "4     54   M           NAP  ...      0.0        Up             0\n",
              "..   ...  ..           ...  ...      ...       ...           ...\n",
              "913   45   M            TA  ...      1.2      Flat             1\n",
              "914   68   M           ASY  ...      3.4      Flat             1\n",
              "915   57   M           ASY  ...      1.2      Flat             1\n",
              "916   57   F           ATA  ...      0.0      Flat             1\n",
              "917   38   M           NAP  ...      0.0        Up             0\n",
              "\n",
              "[918 rows x 12 columns]"
            ]
          },
          "metadata": {},
          "execution_count": 4
        }
      ]
    },
    {
      "cell_type": "markdown",
      "metadata": {
        "id": "AW13KlJUCX_Z"
      },
      "source": [
        "**Attribute Information**\n",
        "\n",
        "*   Age: age of the patient [years]\n",
        "*   Sex: sex of the patient [M: Male, F: Female]\n",
        "*   ChestPainType: chest pain type [TA: Typical Angina, ATA: Atypical Angina, NAP: Non-Anginal Pain, ASY: Asymptomatic]\n",
        "*   RestingBP: resting blood pressure [mm Hg]\n",
        "*   Cholesterol: serum cholesterol [mm/dl]\n",
        "*   FastingBS: fasting blood sugar [1: if FastingBS > 120 mg/dl, 0: otherwise]\n",
        "*   RestingECG: resting electrocardiogram results [Normal: Normal, ST: having ST-T wave abnormality (T wave inversions and/or ST elevation or depression of > 0.05 mV), LVH: showing probable or definite left ventricular hypertrophy by Estes' criteria]\n",
        "*   MaxHR: maximum heart rate achieved [Numeric value between 60 and 202]\n",
        "*   ExerciseAngina: exercise-induced angina [Y: Yes, N: No]\n",
        "*   Oldpeak: oldpeak = ST [Numeric value measured in depression]\n",
        "*   ST_Slope: the slope of the peak exercise ST segment [Up: upsloping, Flat: flat, Down: downsloping]\n",
        "*   HeartDisease: output class [1: heart disease, 0: Normal]"
      ],
      "id": "AW13KlJUCX_Z"
    },
    {
      "cell_type": "code",
      "metadata": {
        "id": "7e2cee6b"
      },
      "source": [
        "age = data['Age']\n",
        "bp = data['RestingBP']\n",
        "hr = data['MaxHR']\n",
        "ch = data['Cholesterol']\n",
        "heartDisease = data['HeartDisease']"
      ],
      "id": "7e2cee6b",
      "execution_count": 13,
      "outputs": []
    },
    {
      "cell_type": "code",
      "metadata": {
        "id": "8613fc7a"
      },
      "source": [
        "def stats_u(data,col):\n",
        "    if data[col].dtype == \"float64\" or data[col].dtype == \"int64\":\n",
        "        print(col,\"has Quantitative data\")\n",
        "        mean_value=data[col].mean()\n",
        "        print('mean of',col,'column',mean_value)\n",
        "        median_value = data[col].median(skipna = True)\n",
        "        print('median of',col,'column',median_value)\n",
        "        std_value = data[col].std()\n",
        "        print('standard deviation of',col,'column',std_value)\n",
        "        q1 = data[col].quantile(0.25,interpolation='nearest')\n",
        "        print('quartile 1 of',col,'column is',q1)\n",
        "        q2 = data[col].quantile(0.5,interpolation='nearest')\n",
        "        print('quartile 2 of',col,'column is',q2)\n",
        "        q3 = data[col].quantile(0.75,interpolation='nearest')\n",
        "        print('quartile 3 of',col,'column is',q3)\n",
        "        q4 = data[col].quantile(1,interpolation='nearest')\n",
        "        print('quartile 4 of',col,'column is',q4)\n",
        "        IQR = q3 - q1\n",
        "        LLP = q1 - 1.5*IQR\n",
        "        ULP = q3 + 1.5*IQR\n",
        "        print('Lower Limit Point:',LLP)\n",
        "        print('Upper Limit Point:',ULP)\n",
        "    else:\n",
        "        print(col,'has Qualitative Data')"
      ],
      "id": "8613fc7a",
      "execution_count": 6,
      "outputs": []
    },
    {
      "cell_type": "code",
      "metadata": {
        "colab": {
          "base_uri": "https://localhost:8080/"
        },
        "id": "703412d7",
        "outputId": "4ee8ee33-461d-4fd1-8777-1fa3b41f12d5"
      },
      "source": [
        "cols=data.columns\n",
        "for i in cols:\n",
        "    print('\\033[1m'+i+'\\033[0m')\n",
        "    stats_u(data,i)\n",
        "    print(\"\\n\")"
      ],
      "id": "703412d7",
      "execution_count": 7,
      "outputs": [
        {
          "output_type": "stream",
          "name": "stdout",
          "text": [
            "\u001b[1mAge\u001b[0m\n",
            "Age has Quantitative data\n",
            "mean of Age column 53.510893246187365\n",
            "median of Age column 54.0\n",
            "standard deviation of Age column 9.432616506732007\n",
            "quartile 1 of Age column is 47\n",
            "quartile 2 of Age column is 54\n",
            "quartile 3 of Age column is 60\n",
            "quartile 4 of Age column is 77\n",
            "Lower Limit Point: 27.5\n",
            "Upper Limit Point: 79.5\n",
            "\n",
            "\n",
            "\u001b[1mSex\u001b[0m\n",
            "Sex has Qualitative Data\n",
            "\n",
            "\n",
            "\u001b[1mChestPainType\u001b[0m\n",
            "ChestPainType has Qualitative Data\n",
            "\n",
            "\n",
            "\u001b[1mRestingBP\u001b[0m\n",
            "RestingBP has Quantitative data\n",
            "mean of RestingBP column 132.39651416122004\n",
            "median of RestingBP column 130.0\n",
            "standard deviation of RestingBP column 18.514154119907808\n",
            "quartile 1 of RestingBP column is 120\n",
            "quartile 2 of RestingBP column is 130\n",
            "quartile 3 of RestingBP column is 140\n",
            "quartile 4 of RestingBP column is 200\n",
            "Lower Limit Point: 90.0\n",
            "Upper Limit Point: 170.0\n",
            "\n",
            "\n",
            "\u001b[1mCholesterol\u001b[0m\n",
            "Cholesterol has Quantitative data\n",
            "mean of Cholesterol column 198.7995642701525\n",
            "median of Cholesterol column 223.0\n",
            "standard deviation of Cholesterol column 109.38414455220337\n",
            "quartile 1 of Cholesterol column is 173\n",
            "quartile 2 of Cholesterol column is 223\n",
            "quartile 3 of Cholesterol column is 267\n",
            "quartile 4 of Cholesterol column is 603\n",
            "Lower Limit Point: 32.0\n",
            "Upper Limit Point: 408.0\n",
            "\n",
            "\n",
            "\u001b[1mFastingBS\u001b[0m\n",
            "FastingBS has Quantitative data\n",
            "mean of FastingBS column 0.23311546840958605\n",
            "median of FastingBS column 0.0\n",
            "standard deviation of FastingBS column 0.423045624739302\n",
            "quartile 1 of FastingBS column is 0\n",
            "quartile 2 of FastingBS column is 0\n",
            "quartile 3 of FastingBS column is 0\n",
            "quartile 4 of FastingBS column is 1\n",
            "Lower Limit Point: 0.0\n",
            "Upper Limit Point: 0.0\n",
            "\n",
            "\n",
            "\u001b[1mRestingECG\u001b[0m\n",
            "RestingECG has Qualitative Data\n",
            "\n",
            "\n",
            "\u001b[1mMaxHR\u001b[0m\n",
            "MaxHR has Quantitative data\n",
            "mean of MaxHR column 136.80936819172112\n",
            "median of MaxHR column 138.0\n",
            "standard deviation of MaxHR column 25.460334138250293\n",
            "quartile 1 of MaxHR column is 120\n",
            "quartile 2 of MaxHR column is 138\n",
            "quartile 3 of MaxHR column is 156\n",
            "quartile 4 of MaxHR column is 202\n",
            "Lower Limit Point: 66.0\n",
            "Upper Limit Point: 210.0\n",
            "\n",
            "\n",
            "\u001b[1mExerciseAngina\u001b[0m\n",
            "ExerciseAngina has Qualitative Data\n",
            "\n",
            "\n",
            "\u001b[1mOldpeak\u001b[0m\n",
            "Oldpeak has Quantitative data\n",
            "mean of Oldpeak column 0.8873638344226581\n",
            "median of Oldpeak column 0.6\n",
            "standard deviation of Oldpeak column 1.0665701510493233\n",
            "quartile 1 of Oldpeak column is 0.0\n",
            "quartile 2 of Oldpeak column is 0.6\n",
            "quartile 3 of Oldpeak column is 1.5\n",
            "quartile 4 of Oldpeak column is 6.2\n",
            "Lower Limit Point: -2.25\n",
            "Upper Limit Point: 3.75\n",
            "\n",
            "\n",
            "\u001b[1mST_Slope\u001b[0m\n",
            "ST_Slope has Qualitative Data\n",
            "\n",
            "\n",
            "\u001b[1mHeartDisease\u001b[0m\n",
            "HeartDisease has Quantitative data\n",
            "mean of HeartDisease column 0.5533769063180828\n",
            "median of HeartDisease column 1.0\n",
            "standard deviation of HeartDisease column 0.4974137382845986\n",
            "quartile 1 of HeartDisease column is 0\n",
            "quartile 2 of HeartDisease column is 1\n",
            "quartile 3 of HeartDisease column is 1\n",
            "quartile 4 of HeartDisease column is 1\n",
            "Lower Limit Point: -1.5\n",
            "Upper Limit Point: 2.5\n",
            "\n",
            "\n"
          ]
        }
      ]
    },
    {
      "cell_type": "code",
      "metadata": {
        "colab": {
          "base_uri": "https://localhost:8080/",
          "height": 1000
        },
        "id": "1b86faca",
        "outputId": "5c920f0f-4397-4bce-a4d0-1cab6a8fcd57"
      },
      "source": [
        "# Histograms\n",
        "\n",
        "plt.hist(bp)\n",
        "plt.xlabel(\"Resting blood pressure [mm Hg]\")\n",
        "plt.show()\n",
        "plt.hist(age)\n",
        "plt.xlabel(\"Age(years)\")\n",
        "plt.show()\n",
        "plt.hist(hr)\n",
        "plt.xlabel(\"Max. heart rate achieved\")\n",
        "plt.show()\n",
        "plt.hist(ch)\n",
        "plt.xlabel(\"Serum cholesterol [mm/dl]\")\n",
        "plt.show()"
      ],
      "id": "1b86faca",
      "execution_count": 8,
      "outputs": [
        {
          "output_type": "display_data",
          "data": {
            "image/png": "[encoded data removed]",
            "text/plain": [
              "<Figure size 432x288 with 1 Axes>"
            ]
          },
          "metadata": {
            "needs_background": "light"
          }
        },
        {
          "output_type": "display_data",
          "data": {
            "image/png": "[encoded data removed]",
            "text/plain": [
              "<Figure size 432x288 with 1 Axes>"
            ]
          },
          "metadata": {
            "needs_background": "light"
          }
        },
        {
          "output_type": "display_data",
          "data": {
            "image/png": "[encoded data removed]",
            "text/plain": [
              "<Figure size 432x288 with 1 Axes>"
            ]
          },
          "metadata": {
            "needs_background": "light"
          }
        },
        {
          "output_type": "display_data",
          "data": {
            "image/png": "[encoded data removed]",
            "text/plain": [
              "<Figure size 432x288 with 1 Axes>"
            ]
          },
          "metadata": {
            "needs_background": "light"
          }
        }
      ]
    },
    {
      "cell_type": "code",
      "metadata": {
        "colab": {
          "base_uri": "https://localhost:8080/",
          "height": 1000
        },
        "id": "d7126afc",
        "outputId": "5c36853e-7797-4cf5-e3d9-1922d0128442"
      },
      "source": [
        "# Box Plots\n",
        "\n",
        "data.boxplot(column=[\"RestingBP\"], by=\"HeartDisease\")\n",
        "data.boxplot(column=[\"Age\"], by=\"HeartDisease\")\n",
        "data.boxplot(column=[\"MaxHR\"], by=\"HeartDisease\")"
      ],
      "id": "d7126afc",
      "execution_count": 14,
      "outputs": [
        {
          "output_type": "stream",
          "name": "stderr",
          "text": [
            "/usr/local/lib/python3.7/dist-packages/numpy/core/_asarray.py:83: VisibleDeprecationWarning: Creating an ndarray from ragged nested sequences (which is a list-or-tuple of lists-or-tuples-or ndarrays with different lengths or shapes) is deprecated. If you meant to do this, you must specify 'dtype=object' when creating the ndarray\n",
            "  return array(a, dtype, copy=False, order=order)\n",
            "/usr/local/lib/python3.7/dist-packages/numpy/core/_asarray.py:83: VisibleDeprecationWarning: Creating an ndarray from ragged nested sequences (which is a list-or-tuple of lists-or-tuples-or ndarrays with different lengths or shapes) is deprecated. If you meant to do this, you must specify 'dtype=object' when creating the ndarray\n",
            "  return array(a, dtype, copy=False, order=order)\n",
            "/usr/local/lib/python3.7/dist-packages/numpy/core/_asarray.py:83: VisibleDeprecationWarning: Creating an ndarray from ragged nested sequences (which is a list-or-tuple of lists-or-tuples-or ndarrays with different lengths or shapes) is deprecated. If you meant to do this, you must specify 'dtype=object' when creating the ndarray\n",
            "  return array(a, dtype, copy=False, order=order)\n"
          ]
        },
        {
          "output_type": "execute_result",
          "data": {
            "text/plain": [
              "<matplotlib.axes._subplots.AxesSubplot at 0x7f6f8d9a7a10>"
            ]
          },
          "metadata": {},
          "execution_count": 14
        },
        {
          "output_type": "display_data",
          "data": {
            "image/png": "[encoded data removed]",
            "text/plain": [
              "<Figure size 432x288 with 1 Axes>"
            ]
          },
          "metadata": {
            "needs_background": "light"
          }
        },
        {
          "output_type": "display_data",
          "data": {
            "image/png": "[encoded data removed]",
            "text/plain": [
              "<Figure size 432x288 with 1 Axes>"
            ]
          },
          "metadata": {
            "needs_background": "light"
          }
        },
        {
          "output_type": "display_data",
          "data": {
            "image/png": "[encoded data removed]",
            "text/plain": [
              "<Figure size 432x288 with 1 Axes>"
            ]
          },
          "metadata": {
            "needs_background": "light"
          }
        }
      ]
    },
    {
      "cell_type": "code",
      "metadata": {
        "colab": {
          "base_uri": "https://localhost:8080/",
          "height": 279
        },
        "id": "8683a8bb",
        "outputId": "c41a0caf-0bd3-42c5-fa65-c1e2195f206a"
      },
      "source": [
        "#Scatter Plots\n",
        "\n",
        "plt.scatter(age, bp)\n",
        "plt.xlabel(\"Age\")\n",
        "plt.ylabel(\"Resting BP\")\n",
        "plt.show()"
      ],
      "id": "8683a8bb",
      "execution_count": 10,
      "outputs": [
        {
          "output_type": "display_data",
          "data": {
            "image/png": "[encoded data removed]",
            "text/plain": [
              "<Figure size 432x288 with 1 Axes>"
            ]
          },
          "metadata": {
            "needs_background": "light"
          }
        }
      ]
    },
    {
      "cell_type": "code",
      "metadata": {
        "colab": {
          "base_uri": "https://localhost:8080/",
          "height": 279
        },
        "id": "b9c3fc6a",
        "outputId": "a59ee5a9-b858-4725-a4a9-c21d652332a3"
      },
      "source": [
        "plt.scatter(age, ch)\n",
        "plt.xlabel(\"Age\")\n",
        "plt.ylabel(\"Cholesterol\")\n",
        "plt.show()"
      ],
      "id": "b9c3fc6a",
      "execution_count": 11,
      "outputs": [
        {
          "output_type": "display_data",
          "data": {
            "image/png": "[encoded data removed]",
            "text/plain": [
              "<Figure size 432x288 with 1 Axes>"
            ]
          },
          "metadata": {
            "needs_background": "light"
          }
        }
      ]
    },
    {
      "cell_type": "code",
      "metadata": {
        "colab": {
          "base_uri": "https://localhost:8080/",
          "height": 279
        },
        "id": "94b42e53",
        "outputId": "f6bc9432-6b97-451e-9ec7-d1c1a9a692a2"
      },
      "source": [
        "plt.scatter(bp, ch)\n",
        "plt.xlabel(\"Resting BP\")\n",
        "plt.ylabel(\"Cholesterol\")\n",
        "plt.show()"
      ],
      "id": "94b42e53",
      "execution_count": 12,
      "outputs": [
        {
          "output_type": "display_data",
          "data": {
            "image/png": "[encoded data removed]",
            "text/plain": [
              "<Figure size 432x288 with 1 Axes>"
            ]
          },
          "metadata": {
            "needs_background": "light"
          }
        }
      ]
    }
  ]
}